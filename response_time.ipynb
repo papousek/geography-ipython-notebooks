{
 "metadata": {
  "name": "",
  "signature": "sha256:48ab1cf93ef3ffe0e8ccfabb008eedc7b72b0a134d08e199b479da95e65f95a9"
 },
 "nbformat": 3,
 "nbformat_minor": 0,
 "worksheets": [
  {
   "cells": [
    {
     "cell_type": "code",
     "collapsed": false,
     "input": [
      "%load_ext autoreload"
     ],
     "language": "python",
     "metadata": {},
     "outputs": [
      {
       "output_type": "stream",
       "stream": "stdout",
       "text": [
        "The autoreload extension is already loaded. To reload it, use:\n",
        "  %reload_ext autoreload\n"
       ]
      }
     ],
     "prompt_number": 5
    },
    {
     "cell_type": "code",
     "collapsed": false,
     "input": [
      "%matplotlib inline\n",
      "%autoreload 2\n",
      "import matplotlib.pyplot as plt\n",
      "import pandas\n",
      "import proso.geography.answers as answers\n",
      "import proso.geography.places as places\n",
      "import scipy.stats as stats\n",
      "from IPython.core.pylabtools import figsize\n",
      "import numpy\n",
      "figsize(11, 9)\n",
      "import seaborn as sns\n",
      "from datetime import datetime\n",
      "COLORS = sns.color_palette()"
     ],
     "language": "python",
     "metadata": {},
     "outputs": [],
     "prompt_number": 6
    },
    {
     "cell_type": "code",
     "collapsed": false,
     "input": [
      "MIN_DATE = datetime.strptime('2014-11-12 20:00:00', '%Y-%m-%d %H:%M:%S')"
     ],
     "language": "python",
     "metadata": {},
     "outputs": [],
     "prompt_number": 7
    },
    {
     "cell_type": "code",
     "collapsed": false,
     "input": [
      "data_all_raw = answers.from_csv('./answers_all.csv', place_csv='./places.csv')"
     ],
     "language": "python",
     "metadata": {},
     "outputs": [],
     "prompt_number": 8
    },
    {
     "cell_type": "code",
     "collapsed": false,
     "input": [
      "data_valid = answers.apply_filter(data_all_raw, lambda d: d['inserted'] >= MIN_DATE, drop_users=True)"
     ],
     "language": "python",
     "metadata": {},
     "outputs": [],
     "prompt_number": 9
    },
    {
     "cell_type": "code",
     "collapsed": false,
     "input": [
      "data_states = data_valid[data_valid['place_asked_type'] == 'state']\n",
      "#data_states = answers.drop_users_by_answers(data_states, answer_limit_min=100)"
     ],
     "language": "python",
     "metadata": {},
     "outputs": []
    },
    {
     "cell_type": "code",
     "collapsed": false,
     "input": [
      "def decorate_correct_in_group(data):\n",
      "    data['correct'] = data.apply(lambda row: row['place_asked'] == row['place_answered'], axis=1)\n",
      "    data['correct_next'] = data['correct'].shift(-1)\n",
      "    data['correct_prev'] = data['correct'].shift(1)\n",
      "    return data\n",
      "    \n",
      "data_states = data_states.groupby(['user', 'place_asked']).apply(decorate_correct_in_group).sort('id')\n",
      "data_states.head()"
     ],
     "language": "python",
     "metadata": {},
     "outputs": []
    },
    {
     "cell_type": "code",
     "collapsed": false,
     "input": [
      "data_states = data_states[data_states['response_time'] >= 0]\n",
      "perc_limit = numpy.percentile(data_states['response_time'], 99)\n",
      "data_states_valid = data_states[data_states['response_time'] <= perc_limit]"
     ],
     "language": "python",
     "metadata": {},
     "outputs": []
    },
    {
     "cell_type": "code",
     "collapsed": false,
     "input": [
      "def get_response_time_group(percentiles, response_time, place_asked):\n",
      "    place_asked_percentiles = percentiles[place_asked]\n",
      "    if place_asked_percentiles is None:\n",
      "        return None\n",
      "    for i, p in enumerate(place_asked_percentiles):\n",
      "        if response_time <= p:\n",
      "            return i\n",
      "    return len(place_asked_percentiles)\n",
      "\n",
      "def decorate_response_time_group(data, number_of_groups=10, answers_limit=100):\n",
      "    percentile_tresholds = map(int, numpy.linspace(0, 100, number_of_groups + 1)[1:-1])\n",
      "    percentiles = data.groupby('place_asked').apply(\n",
      "        lambda x: numpy.percentile(x['response_time'], percentile_tresholds) if len(x) > answers_limit else None).to_dict()\n",
      "    data['response_time_group'] = data.apply(\n",
      "        lambda row: get_response_time_group(percentiles, row['response_time'], row['place_asked']), axis=1)\n",
      "    return data, percentile_tresholds\n",
      "\n",
      "data_states_rtg, thresholds = decorate_response_time_group(data_states_valid)"
     ],
     "language": "python",
     "metadata": {},
     "outputs": []
    },
    {
     "cell_type": "code",
     "collapsed": false,
     "input": [
      "figsize(15, 7)\n",
      "\n",
      "def success_vs_response_time(data, success_column, answers_limit=100):\n",
      "    data = data.dropna(subset=[success_column])\n",
      "    data = data.groupby('response_time_group').apply(lambda x: (sum(x[success_column]) / float(len(x)), len(x))).to_dict()\n",
      "    return dict(map(lambda (x, (y, z)): (x, y), filter(lambda (x, (y, z)): z >= answers_limit, data.items())))\n",
      "\n",
      "def plot_success_vs_response_time(plot, data, *args, **kwargs):\n",
      "    plot.plot(zip(*data.items())[0], zip(*data.items())[1], *args, **kwargs)\n",
      "\n",
      "def describe_success_vs_response_time_plot(plot, percentile_tresholds):\n",
      "    plot.xlabel('Solving Time Group\\n(according to the percentile computed per place)')\n",
      "    plot.ylabel('Success')\n",
      "    xticks = plot.xticks()[0]\n",
      "    new_xticks = dict(enumerate(map(lambda (f, t): '%s-%s%%' % (int(f if f == 0 else f + 1), int(t)), zip([0] + percentile_tresholds, percentile_tresholds + [100]))))\n",
      "    plot.xticks(xticks, map(lambda tick: new_xticks[int(tick)], xticks), rotation=10)\n",
      "    plot.title('Success vs. Solving Time')\n",
      "\n",
      "data_states_rtg_correct = data_states_rtg[data_states_rtg['correct']]\n",
      "data_states_rtg_wrong = data_states_rtg[data_states_rtg['correct'] == False]\n",
      "data_states_rtg_wrong_correct = data_states_rtg_correct.dropna(subset=['correct_prev'])\n",
      "data_states_rtg_wrong_correct = data_states_rtg_wrong_correct[data_states_rtg_wrong_correct['correct_prev'] == False] \n",
      "    \n",
      "correct_current_all = success_vs_response_time(data_states_rtg, 'correct')\n",
      "correct_next_all = success_vs_response_time(data_states_rtg, 'correct_next')\n",
      "correct_next_wrong = success_vs_response_time(data_states_rtg_wrong, 'correct_next')\n",
      "correct_next_correct = success_vs_response_time(data_states_rtg_correct, 'correct_next')\n",
      "\n",
      "correct_next_wrong_correct = success_vs_response_time(data_states_rtg_wrong_correct, 'correct_next')\n",
      "plot_success_vs_response_time(plt, correct_current_all, 'D-', color=COLORS[0], label='User\\'s Current Answer')\n",
      "plot_success_vs_response_time(plt, correct_next_all, 'o-', color=COLORS[1], label='User\\'s Next Answer')\n",
      "plot_success_vs_response_time(plt, correct_next_correct, 'v-', color=COLORS[2], label='User\\'s Next Answer\\n(when the current one is correct)')\n",
      "plot_success_vs_response_time(plt, correct_next_wrong_correct, 's-', color=COLORS[3], label='User\\'s Next Answer\\n(when the current one is correct and the previous one incorrect)')\n",
      "plot_success_vs_response_time(plt, correct_next_wrong, '>-', color=COLORS[4], label='User\\'s Next Answer\\n(when the current one is incorrect)')\n",
      "describe_success_vs_response_time_plot(plt, thresholds)\n",
      "\n",
      "\n",
      "plt.legend(loc='center left')\n",
      "plt.savefig('./response_time.svg')\n",
      "plt.show()"
     ],
     "language": "python",
     "metadata": {},
     "outputs": []
    }
   ],
   "metadata": {}
  }
 ]
}